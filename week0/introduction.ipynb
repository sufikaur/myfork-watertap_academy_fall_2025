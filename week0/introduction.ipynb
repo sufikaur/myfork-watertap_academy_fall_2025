{
 "cells": [
  {
   "cell_type": "markdown",
   "metadata": {},
   "source": [
    "# WaterTAP Introduction Tutorial\n",
    "Demonstration of code-based user interface for WaterTAP\n",
    "\n",
    "## Dependencies\n",
    "* Python - Programming language\n",
    "* Pyomo - Python package for equation-oriented modeling\n",
    "* IDAES - Python package extending Pyomo for flowsheet modeling"
   ]
  },
  {
   "cell_type": "markdown",
   "metadata": {},
   "source": [
    "## Demonstration structure \n",
    "* Pyomo example\n",
    "* Property model example\n",
    "* Unit model example\n",
    "* Flowsheet model example\n",
    "* Cost optimization example"
   ]
  },
  {
   "cell_type": "markdown",
   "metadata": {},
   "source": [
    "## Pyomo Example"
   ]
  },
  {
   "cell_type": "markdown",
   "metadata": {},
   "source": [
    "$${\\Large\n",
    "\\begin{array}\n",
    " \\text{\\min} & x_1^2 + x_2^2  \\\\\n",
    " \\text{s.t.} & x_1 + 2 x_2 \\geq 1 \n",
    "\\end{array}}$$"
   ]
  },
  {
   "cell_type": "markdown",
   "metadata": {},
   "source": [
    "### Solving Graphically\n",
    "x1 = 0.2, x2 = 0.4, objective = 0.2"
   ]
  },
  {
   "cell_type": "markdown",
   "metadata": {},
   "source": [
    "<img src=\"pyomo_solution.png\" width=\"500\" height=\"340\">"
   ]
  },
  {
   "cell_type": "markdown",
   "metadata": {},
   "source": [
    "### Solving with Pyomo\n",
    "### Import Pyomo package and solver"
   ]
  },
  {
   "cell_type": "code",
   "execution_count": 1,
   "metadata": {},
   "outputs": [],
   "source": [
    "from pyomo.environ import ConcreteModel, Var, Objective, Constraint, value, units\n",
    "from watertap.core.solvers import get_solver"
   ]
  },
  {
   "cell_type": "markdown",
   "metadata": {},
   "source": [
    "### Build model"
   ]
  },
  {
   "cell_type": "code",
   "execution_count": 2,
   "metadata": {},
   "outputs": [],
   "source": [
    "# create Pyomo model\n",
    "m = ConcreteModel(\"Pyomo Example\")\n",
    "\n",
    "# add variables\n",
    "m.x1 = Var()\n",
    "m.x2 = Var()\n",
    "\n",
    "# add objective function\n",
    "m.obj = Objective(expr=m.x1**2 + m.x2**2)\n",
    "\n",
    "# add constraint\n",
    "m.con = Constraint(expr=m.x1 + 2*m.x2 >= 1)"
   ]
  },
  {
   "cell_type": "markdown",
   "metadata": {},
   "source": [
    "### Print model"
   ]
  },
  {
   "cell_type": "code",
   "execution_count": 3,
   "metadata": {},
   "outputs": [
    {
     "name": "stdout",
     "output_type": "stream",
     "text": [
      "2 Var Declarations\n",
      "    x1 : Size=1, Index=None\n",
      "        Key  : Lower : Value : Upper : Fixed : Stale : Domain\n",
      "        None :  None :  None :  None : False :  True :  Reals\n",
      "    x2 : Size=1, Index=None\n",
      "        Key  : Lower : Value : Upper : Fixed : Stale : Domain\n",
      "        None :  None :  None :  None : False :  True :  Reals\n",
      "\n",
      "1 Objective Declarations\n",
      "    obj : Size=1, Index=None, Active=True\n",
      "        Key  : Active : Sense    : Expression\n",
      "        None :   True : minimize : x1**2 + x2**2\n",
      "\n",
      "1 Constraint Declarations\n",
      "    con : Size=1, Index=None, Active=True\n",
      "        Key  : Lower : Body      : Upper : Active\n",
      "        None :   1.0 : x1 + 2*x2 :  +Inf :   True\n",
      "\n",
      "4 Declarations: x1 x2 obj con\n"
     ]
    }
   ],
   "source": [
    "# print the model\n",
    "m.pprint()"
   ]
  },
  {
   "cell_type": "markdown",
   "metadata": {},
   "source": [
    "### Solve model"
   ]
  },
  {
   "cell_type": "code",
   "execution_count": 4,
   "metadata": {},
   "outputs": [
    {
     "name": "stdout",
     "output_type": "stream",
     "text": [
      "\n",
      "Problem: \n",
      "- Lower bound: -.inf\n",
      "  Upper bound: .inf\n",
      "  Number of objectives: 1\n",
      "  Number of constraints: 1\n",
      "  Number of variables: 2\n",
      "  Sense: unknown\n",
      "Solver: \n",
      "- Status: ok\n",
      "  Message: Ipopt 3.13.2\\x3a Optimal Solution Found\n",
      "  Termination condition: optimal\n",
      "  Id: 0\n",
      "  Error rc: 0\n",
      "  Time: 0.20083212852478027\n",
      "Solution: \n",
      "- number of solutions: 0\n",
      "  number of solutions displayed: 0\n",
      "\n"
     ]
    }
   ],
   "source": [
    "# access the solver\n",
    "solver = get_solver()\n",
    "\n",
    "# solve the model\n",
    "results = solver.solve(m)\n",
    "print(results)"
   ]
  },
  {
   "cell_type": "markdown",
   "metadata": {},
   "source": [
    "### Display solved model"
   ]
  },
  {
   "cell_type": "code",
   "execution_count": 5,
   "metadata": {
    "scrolled": true
   },
   "outputs": [
    {
     "name": "stdout",
     "output_type": "stream",
     "text": [
      "Model Pyomo Example\n",
      "\n",
      "  Variables:\n",
      "    x1 : Size=1, Index=None\n",
      "        Key  : Lower : Value               : Upper : Fixed : Stale : Domain\n",
      "        None :  None : 0.20000000125783673 :  None : False : False :  Reals\n",
      "    x2 : Size=1, Index=None\n",
      "        Key  : Lower : Value               : Upper : Fixed : Stale : Domain\n",
      "        None :  None : 0.40000000251567347 :  None : False : False :  Reals\n",
      "\n",
      "  Objectives:\n",
      "    obj : Size=1, Index=None, Active=True\n",
      "        Key  : Active : Value\n",
      "        None :   True : 0.20000000251567346\n",
      "\n",
      "  Constraints:\n",
      "    con : Size=1\n",
      "        Key  : Lower : Body               : Upper\n",
      "        None :   1.0 : 1.0000000062891836 :  None\n"
     ]
    }
   ],
   "source": [
    "# display the model\n",
    "m.display()"
   ]
  },
  {
   "cell_type": "markdown",
   "metadata": {},
   "source": [
    "### Print results"
   ]
  },
  {
   "cell_type": "code",
   "execution_count": 6,
   "metadata": {},
   "outputs": [
    {
     "name": "stdout",
     "output_type": "stream",
     "text": [
      "x1 = 0.20\n",
      "x2 = 0.40\n",
      "obj = 0.20\n"
     ]
    }
   ],
   "source": [
    "# print the values\n",
    "print(\"x1 = %.2f\" % value(m.x1))\n",
    "print(\"x2 = %.2f\" % value(m.x2))\n",
    "print(\"obj = %.2f\" % value(m.obj))"
   ]
  },
  {
   "cell_type": "markdown",
   "metadata": {},
   "source": [
    "### Pyomo recap\n",
    "* Pyomo supports equation oriented modeling and optimization capabilities within Python\n",
    "* Models are created by simply specifiying variables, constraints, and objectives\n",
    "* Models are solved with commercial or open-source solvers"
   ]
  },
  {
   "cell_type": "markdown",
   "metadata": {},
   "source": [
    "## WaterTAP Seawater Property Example\n",
    "This section shows how to create and solve a seawater property model using WaterTAP."
   ]
  },
  {
   "cell_type": "markdown",
   "metadata": {},
   "source": [
    "### Import WaterTAP and IDAES"
   ]
  },
  {
   "cell_type": "code",
   "execution_count": 7,
   "metadata": {},
   "outputs": [],
   "source": [
    "from idaes.core import FlowsheetBlock\n",
    "from idaes.core.util.scaling import calculate_scaling_factors, set_scaling_factor\n",
    "import watertap.property_models.seawater_prop_pack as properties"
   ]
  },
  {
   "cell_type": "markdown",
   "metadata": {},
   "source": [
    "### Create a seawater state block"
   ]
  },
  {
   "cell_type": "code",
   "execution_count": 8,
   "metadata": {},
   "outputs": [
    {
     "name": "stdout",
     "output_type": "stream",
     "text": [
      "Block fs.state_block[0]\n",
      "\n",
      "  Variables:\n",
      "    flow_mass_phase_comp : Mass flow rate\n",
      "        Size=2, Index=fs.properties.phase_list*fs.properties.component_list, Units=kg/s\n",
      "        Key            : Lower : Value : Upper : Fixed : Stale : Domain\n",
      "        ('Liq', 'H2O') :   0.0 : 0.965 :  None : False : False : NonNegativeReals\n",
      "        ('Liq', 'TDS') :   0.0 : 0.035 :  None : False : False : NonNegativeReals\n",
      "    temperature : Temperature\n",
      "        Size=1, Index=None, Units=K\n",
      "        Key  : Lower  : Value  : Upper : Fixed : Stale : Domain\n",
      "        None : 273.15 : 298.15 :  1000 : False : False : NonNegativeReals\n",
      "    pressure : Pressure\n",
      "        Size=1, Index=None, Units=Pa\n",
      "        Key  : Lower  : Value  : Upper      : Fixed : Stale : Domain\n",
      "        None : 1000.0 : 101325 : 50000000.0 : False : False : NonNegativeReals\n",
      "\n",
      "  Objectives:\n",
      "    None\n",
      "\n",
      "  Constraints:\n",
      "    None\n"
     ]
    }
   ],
   "source": [
    "# create pyomo model\n",
    "m = ConcreteModel()\n",
    "\n",
    "# create IDAES flowsheet\n",
    "m.fs = FlowsheetBlock(dynamic=False)\n",
    "\n",
    "# create seawater property model\n",
    "m.fs.properties = properties.SeawaterParameterBlock()\n",
    "\n",
    "# create a state block using the property model\n",
    "m.fs.state_block = m.fs.properties.build_state_block([0])\n",
    "\n",
    "# display the state block\n",
    "m.fs.state_block[0].display()"
   ]
  },
  {
   "cell_type": "markdown",
   "metadata": {},
   "source": [
    "### Set the state variables"
   ]
  },
  {
   "cell_type": "code",
   "execution_count": 9,
   "metadata": {},
   "outputs": [
    {
     "name": "stdout",
     "output_type": "stream",
     "text": [
      "Block fs.state_block[0]\n",
      "\n",
      "  Variables:\n",
      "    flow_mass_phase_comp : Mass flow rate\n",
      "        Size=2, Index=fs.properties.phase_list*fs.properties.component_list, Units=kg/s\n",
      "        Key            : Lower : Value : Upper : Fixed : Stale : Domain\n",
      "        ('Liq', 'H2O') :   0.0 : 0.965 :  None :  True : False : NonNegativeReals\n",
      "        ('Liq', 'TDS') :   0.0 : 0.035 :  None :  True : False : NonNegativeReals\n",
      "    temperature : Temperature\n",
      "        Size=1, Index=None, Units=K\n",
      "        Key  : Lower  : Value : Upper : Fixed : Stale : Domain\n",
      "        None : 273.15 :   298 :  1000 :  True : False : NonNegativeReals\n",
      "    pressure : Pressure\n",
      "        Size=1, Index=None, Units=Pa\n",
      "        Key  : Lower  : Value  : Upper      : Fixed : Stale : Domain\n",
      "        None : 1000.0 : 101325 : 50000000.0 :  True : False : NonNegativeReals\n",
      "\n",
      "  Objectives:\n",
      "    None\n",
      "\n",
      "  Constraints:\n",
      "    None\n"
     ]
    }
   ],
   "source": [
    "# fix state variables\n",
    "m.fs.state_block[0].temperature.fix(273 + 25)                      # temperature (K)\n",
    "m.fs.state_block[0].pressure.fix(101325)                           # pressure (Pa)\n",
    "m.fs.state_block[0].flow_mass_phase_comp['Liq', 'H2O'].fix(0.965)  # mass flowrate of H2O (kg/s)\n",
    "m.fs.state_block[0].flow_mass_phase_comp['Liq', 'TDS'].fix(0.035)  # mass flowrate of TDS (kg/s)\n",
    "\n",
    "# display state block\n",
    "m.fs.state_block[0].display()"
   ]
  },
  {
   "cell_type": "markdown",
   "metadata": {},
   "source": [
    "### View supported properties in documentation\n",
    "https://watertap.readthedocs.io/en/latest/technical_reference/property_models/seawater.html"
   ]
  },
  {
   "cell_type": "markdown",
   "metadata": {},
   "source": [
    "### Create mass fraction property"
   ]
  },
  {
   "cell_type": "code",
   "execution_count": 10,
   "metadata": {},
   "outputs": [
    {
     "name": "stdout",
     "output_type": "stream",
     "text": [
      "Block fs.state_block[0]\n",
      "\n",
      "  Variables:\n",
      "    flow_mass_phase_comp : Mass flow rate\n",
      "        Size=2, Index=fs.properties.phase_list*fs.properties.component_list, Units=kg/s\n",
      "        Key            : Lower : Value : Upper : Fixed : Stale : Domain\n",
      "        ('Liq', 'H2O') :   0.0 : 0.965 :  None :  True : False : NonNegativeReals\n",
      "        ('Liq', 'TDS') :   0.0 : 0.035 :  None :  True : False : NonNegativeReals\n",
      "    temperature : Temperature\n",
      "        Size=1, Index=None, Units=K\n",
      "        Key  : Lower  : Value : Upper : Fixed : Stale : Domain\n",
      "        None : 273.15 :   298 :  1000 :  True : False : NonNegativeReals\n",
      "    pressure : Pressure\n",
      "        Size=1, Index=None, Units=Pa\n",
      "        Key  : Lower  : Value  : Upper      : Fixed : Stale : Domain\n",
      "        None : 1000.0 : 101325 : 50000000.0 :  True : False : NonNegativeReals\n",
      "    mass_frac_phase_comp : Mass fraction\n",
      "        Size=2, Index=fs.properties.phase_list*fs.properties.component_list, Units=dimensionless\n",
      "        Key            : Lower : Value : Upper : Fixed : Stale : Domain\n",
      "        ('Liq', 'H2O') :   0.0 :   0.1 :  None : False : False :  Reals\n",
      "        ('Liq', 'TDS') :   0.0 :   0.1 :  None : False : False :  Reals\n",
      "\n",
      "  Objectives:\n",
      "    None\n",
      "\n",
      "  Constraints:\n",
      "    eq_mass_frac_phase_comp : Size=2\n",
      "        Key            : Lower : Body   : Upper\n",
      "        ('Liq', 'H2O') :   0.0 : -0.865 :   0.0\n",
      "        ('Liq', 'TDS') :   0.0 :  0.065 :   0.0\n"
     ]
    }
   ],
   "source": [
    "# attempting to access a property will automatically create the variable and constraint\n",
    "m.fs.state_block[0].mass_frac_phase_comp\n",
    "\n",
    "# display the state block\n",
    "m.fs.state_block[0].display()\n",
    "\n",
    "# note that the variable and its constraint are only created, it has not been solved yet"
   ]
  },
  {
   "cell_type": "markdown",
   "metadata": {},
   "source": [
    "### Solve state block to determine mass fraction"
   ]
  },
  {
   "cell_type": "code",
   "execution_count": 11,
   "metadata": {},
   "outputs": [
    {
     "name": "stdout",
     "output_type": "stream",
     "text": [
      "Block fs.state_block[0]\n",
      "\n",
      "  Variables:\n",
      "    flow_mass_phase_comp : Mass flow rate\n",
      "        Size=2, Index=fs.properties.phase_list*fs.properties.component_list, Units=kg/s\n",
      "        Key            : Lower : Value : Upper : Fixed : Stale : Domain\n",
      "        ('Liq', 'H2O') :   0.0 : 0.965 :  None :  True :  True : NonNegativeReals\n",
      "        ('Liq', 'TDS') :   0.0 : 0.035 :  None :  True :  True : NonNegativeReals\n",
      "    temperature : Temperature\n",
      "        Size=1, Index=None, Units=K\n",
      "        Key  : Lower  : Value : Upper : Fixed : Stale : Domain\n",
      "        None : 273.15 :   298 :  1000 :  True :  True : NonNegativeReals\n",
      "    pressure : Pressure\n",
      "        Size=1, Index=None, Units=Pa\n",
      "        Key  : Lower  : Value  : Upper      : Fixed : Stale : Domain\n",
      "        None : 1000.0 : 101325 : 50000000.0 :  True :  True : NonNegativeReals\n",
      "    mass_frac_phase_comp : Mass fraction\n",
      "        Size=2, Index=fs.properties.phase_list*fs.properties.component_list, Units=dimensionless\n",
      "        Key            : Lower : Value : Upper : Fixed : Stale : Domain\n",
      "        ('Liq', 'H2O') :   0.0 : 0.965 :  None : False : False :  Reals\n",
      "        ('Liq', 'TDS') :   0.0 : 0.035 :  None : False : False :  Reals\n",
      "\n",
      "  Objectives:\n",
      "    None\n",
      "\n",
      "  Constraints:\n",
      "    eq_mass_frac_phase_comp : Size=2\n",
      "        Key            : Lower : Body : Upper\n",
      "        ('Liq', 'H2O') :   0.0 :  0.0 :   0.0\n",
      "        ('Liq', 'TDS') :   0.0 :  0.0 :   0.0\n"
     ]
    }
   ],
   "source": [
    "# solve the state block\n",
    "solver.solve(m.fs.state_block[0])\n",
    "\n",
    "# display the state block\n",
    "m.fs.state_block[0].display()"
   ]
  },
  {
   "cell_type": "markdown",
   "metadata": {},
   "source": [
    "### Create and solve osmotic pressure property"
   ]
  },
  {
   "cell_type": "code",
   "execution_count": 12,
   "metadata": {},
   "outputs": [
    {
     "name": "stdout",
     "output_type": "stream",
     "text": [
      "Block fs.state_block[0]\n",
      "\n",
      "  Variables:\n",
      "    flow_mass_phase_comp : Mass flow rate\n",
      "        Size=2, Index=fs.properties.phase_list*fs.properties.component_list, Units=kg/s\n",
      "        Key            : Lower : Value : Upper : Fixed : Stale : Domain\n",
      "        ('Liq', 'H2O') :   0.0 : 0.965 :  None :  True :  True : NonNegativeReals\n",
      "        ('Liq', 'TDS') :   0.0 : 0.035 :  None :  True :  True : NonNegativeReals\n",
      "    temperature : Temperature\n",
      "        Size=1, Index=None, Units=K\n",
      "        Key  : Lower  : Value : Upper : Fixed : Stale : Domain\n",
      "        None : 273.15 :   298 :  1000 :  True :  True : NonNegativeReals\n",
      "    pressure : Pressure\n",
      "        Size=1, Index=None, Units=Pa\n",
      "        Key  : Lower  : Value  : Upper      : Fixed : Stale : Domain\n",
      "        None : 1000.0 : 101325 : 50000000.0 :  True :  True : NonNegativeReals\n",
      "    mass_frac_phase_comp : Mass fraction\n",
      "        Size=2, Index=fs.properties.phase_list*fs.properties.component_list, Units=dimensionless\n",
      "        Key            : Lower : Value : Upper : Fixed : Stale : Domain\n",
      "        ('Liq', 'H2O') :   0.0 : 0.965 :  None : False : False :  Reals\n",
      "        ('Liq', 'TDS') :   0.0 : 0.035 :  None : False : False :  Reals\n",
      "    pressure_osm_phase : Osmotic pressure\n",
      "        Size=1, Index=fs.properties.phase_list, Units=Pa\n",
      "        Key : Lower : Value              : Upper       : Fixed : Stale : Domain\n",
      "        Liq :     1 : 2586985.0382106523 : 100000000.0 : False : False :  Reals\n",
      "    dens_mass_solvent : Mass density of pure water\n",
      "        Size=1, Index=None, Units=kg/m**3\n",
      "        Key  : Lower : Value             : Upper     : Fixed : Stale : Domain\n",
      "        None :     1 : 996.9294768944163 : 1000000.0 : False : False :  Reals\n",
      "    osm_coeff : Osmotic coefficient\n",
      "        Size=1, Index=None, Units=dimensionless\n",
      "        Key  : Lower : Value              : Upper : Fixed : Stale : Domain\n",
      "        None :   0.0 : 0.9068194026543591 :    10 : False : False :  Reals\n",
      "    molality_phase_comp : Molality\n",
      "        Size=1, Index=fs.properties.phase_list*{TDS}, Units=mol/kg\n",
      "        Key            : Lower : Value              : Upper     : Fixed : Stale : Domain\n",
      "        ('Liq', 'TDS') :   0.0 : 1.1549368189260796 : 1000000.0 : False : False :  Reals\n",
      "\n",
      "  Objectives:\n",
      "    None\n",
      "\n",
      "  Constraints:\n",
      "    eq_mass_frac_phase_comp : Size=2\n",
      "        Key            : Lower : Body : Upper\n",
      "        ('Liq', 'H2O') :   0.0 :  0.0 :   0.0\n",
      "        ('Liq', 'TDS') :   0.0 :  0.0 :   0.0\n",
      "    eq_pressure_osm_phase : Size=1\n",
      "        Key : Lower : Body : Upper\n",
      "        Liq :   0.0 :  0.0 :   0.0\n",
      "    eq_dens_mass_solvent : Size=1\n",
      "        Key  : Lower : Body : Upper\n",
      "        None :   0.0 :  0.0 :   0.0\n",
      "    eq_osm_coeff : Size=1\n",
      "        Key  : Lower : Body                   : Upper\n",
      "        None :   0.0 : 1.1102230246251565e-16 :   0.0\n",
      "    eq_molality_phase_comp : Size=1\n",
      "        Key            : Lower : Body : Upper\n",
      "        ('Liq', 'TDS') :   0.0 :  0.0 :   0.0\n"
     ]
    }
   ],
   "source": [
    "# create osmotic pressure\n",
    "m.fs.state_block[0].pressure_osm_phase\n",
    "\n",
    "# solve the state block\n",
    "solver.solve(m.fs.state_block[0])\n",
    "\n",
    "# display the state block\n",
    "m.fs.state_block[0].display()\n",
    "\n",
    "# note that other intermediate variables were needed to calculate osmotic pressure\n",
    "# and they were automatically created with the constraints to calculate them"
   ]
  },
  {
   "cell_type": "markdown",
   "metadata": {},
   "source": [
    "### Convert osmotic pressure units to bar"
   ]
  },
  {
   "cell_type": "code",
   "execution_count": 13,
   "metadata": {},
   "outputs": [
    {
     "data": {
      "text/plain": [
       "25.869850382106524"
      ]
     },
     "execution_count": 13,
     "metadata": {},
     "output_type": "execute_result"
    }
   ],
   "source": [
    "# convert osmotic pressure from Pa to bar\n",
    "pressure_osm_bar = units.convert(m.fs.state_block[0].pressure_osm_phase[\"Liq\"], to_units=units.bar)\n",
    "\n",
    "# value of the osmotic pressure in bar\n",
    "value(pressure_osm_bar)"
   ]
  },
  {
   "cell_type": "markdown",
   "metadata": {},
   "source": [
    "### Solve for osmotic pressure using other variables"
   ]
  },
  {
   "cell_type": "code",
   "execution_count": 14,
   "metadata": {},
   "outputs": [
    {
     "name": "stdout",
     "output_type": "stream",
     "text": [
      "Block fs.state_block[0]\n",
      "\n",
      "  Variables:\n",
      "    flow_mass_phase_comp : Mass flow rate\n",
      "        Size=2, Index=fs.properties.phase_list*fs.properties.component_list, Units=kg/s\n",
      "        Key            : Lower : Value                : Upper : Fixed : Stale : Domain\n",
      "        ('Liq', 'H2O') :   0.0 :   0.2731349020597548 :  None : False : False : NonNegativeReals\n",
      "        ('Liq', 'TDS') :   0.0 : 0.014375521161039727 :  None : False : False : NonNegativeReals\n",
      "    temperature : Temperature\n",
      "        Size=1, Index=None, Units=K\n",
      "        Key  : Lower  : Value : Upper : Fixed : Stale : Domain\n",
      "        None : 273.15 :   298 :  1000 :  True :  True : NonNegativeReals\n",
      "    pressure : Pressure\n",
      "        Size=1, Index=None, Units=Pa\n",
      "        Key  : Lower  : Value  : Upper      : Fixed : Stale : Domain\n",
      "        None : 1000.0 : 101325 : 50000000.0 :  True :  True : NonNegativeReals\n",
      "    mass_frac_phase_comp : Mass fraction\n",
      "        Size=2, Index=fs.properties.phase_list*fs.properties.component_list, Units=dimensionless\n",
      "        Key            : Lower : Value : Upper : Fixed : Stale : Domain\n",
      "        ('Liq', 'H2O') :   0.0 :  0.95 :  None : False : False :  Reals\n",
      "        ('Liq', 'TDS') :   0.0 :  0.05 :  None :  True :  True :  Reals\n",
      "    pressure_osm_phase : Osmotic pressure\n",
      "        Size=1, Index=fs.properties.phase_list, Units=Pa\n",
      "        Key : Lower : Value              : Upper       : Fixed : Stale : Domain\n",
      "        Liq :     1 : 3788200.3720384645 : 100000000.0 : False : False :  Reals\n",
      "    dens_mass_solvent : Mass density of pure water\n",
      "        Size=1, Index=None, Units=kg/m**3\n",
      "        Key  : Lower : Value             : Upper     : Fixed : Stale : Domain\n",
      "        None :     1 : 996.9294768944163 : 1000000.0 : False : False :  Reals\n",
      "    osm_coeff : Osmotic coefficient\n",
      "        Size=1, Index=None, Units=dimensionless\n",
      "        Key  : Lower : Value              : Upper : Fixed : Stale : Domain\n",
      "        None :   0.0 : 0.9150696707527196 :    10 : False : False :  Reals\n",
      "    molality_phase_comp : Molality\n",
      "        Size=1, Index=fs.properties.phase_list*{TDS}, Units=mol/kg\n",
      "        Key            : Lower : Value              : Upper     : Fixed : Stale : Domain\n",
      "        ('Liq', 'TDS') :   0.0 : 1.6759609477649124 : 1000000.0 : False : False :  Reals\n",
      "    flow_vol_phase : Volumetric flow rate\n",
      "        Size=1, Index=fs.properties.phase_list, Units=m**3/s\n",
      "        Key : Lower : Value                 : Upper : Fixed : Stale : Domain\n",
      "        Liq :   0.0 : 0.0002777777777777778 :  None :  True :  True :  Reals\n",
      "    dens_mass_phase : Mass density of seawater\n",
      "        Size=1, Index=fs.properties.phase_list, Units=kg/m**3\n",
      "        Key : Lower : Value              : Upper     : Fixed : Stale : Domain\n",
      "        Liq :     1 : 1035.0375235948602 : 1000000.0 : False : False :  Reals\n",
      "\n",
      "  Objectives:\n",
      "    None\n",
      "\n",
      "  Constraints:\n",
      "    eq_mass_frac_phase_comp : Size=2\n",
      "        Key            : Lower : Body                  : Upper\n",
      "        ('Liq', 'H2O') :   0.0 :                   0.0 :   0.0\n",
      "        ('Liq', 'TDS') :   0.0 : 6.938893903907228e-18 :   0.0\n",
      "    eq_pressure_osm_phase : Size=1\n",
      "        Key : Lower : Body : Upper\n",
      "        Liq :   0.0 :  0.0 :   0.0\n",
      "    eq_dens_mass_solvent : Size=1\n",
      "        Key  : Lower : Body : Upper\n",
      "        None :   0.0 :  0.0 :   0.0\n",
      "    eq_osm_coeff : Size=1\n",
      "        Key  : Lower : Body : Upper\n",
      "        None :   0.0 :  0.0 :   0.0\n",
      "    eq_molality_phase_comp : Size=1\n",
      "        Key            : Lower : Body : Upper\n",
      "        ('Liq', 'TDS') :   0.0 :  0.0 :   0.0\n",
      "    eq_flow_vol_phase : Size=1\n",
      "        Key : Lower : Body                   : Upper\n",
      "        Liq :   0.0 : -5.421010862427522e-20 :   0.0\n",
      "    eq_dens_mass_phase : Size=1\n",
      "        Key : Lower : Body                    : Upper\n",
      "        Liq :   0.0 : -2.2737367544323206e-13 :   0.0\n",
      "Osmotic pressure: 37.9 bar\n"
     ]
    }
   ],
   "source": [
    "# Unfix the previously fixed state variables\n",
    "m.fs.state_block[0].flow_mass_phase_comp['Liq', 'H2O'].unfix()                 # mass flowrate of H2O (kg/s)\n",
    "m.fs.state_block[0].flow_mass_phase_comp['Liq', 'TDS'].unfix()                 # mass flowrate of TDS (kg/s)\n",
    "\n",
    "# Fix volumetric flowrate and TDS mass fraction\n",
    "m.fs.state_block[0].flow_vol_phase['Liq'].fix(1 * (units.m ** 3 / units.hr))   # volumetric flowrate (m3/s)\n",
    "m.fs.state_block[0].mass_frac_phase_comp['Liq', 'TDS'].fix(0.05)               # TDS mass fraction (-)\n",
    "\n",
    "# Solve the state block\n",
    "results = solver.solve(m.fs.state_block[0])\n",
    "\n",
    "# Display the state block\n",
    "m.fs.state_block[0].display()\n",
    "\n",
    "# Print osmotic pressure in bar\n",
    "print(\"Osmotic pressure: %.1f bar\" % value(pressure_osm_bar))"
   ]
  },
  {
   "cell_type": "markdown",
   "metadata": {},
   "source": [
    "### Solve for other variables using a specified osmotic pressure"
   ]
  },
  {
   "cell_type": "code",
   "execution_count": 15,
   "metadata": {},
   "outputs": [
    {
     "name": "stdout",
     "output_type": "stream",
     "text": [
      "Block fs.state_block[0]\n",
      "\n",
      "  Variables:\n",
      "    flow_mass_phase_comp : Mass flow rate\n",
      "        Size=2, Index=fs.properties.phase_list*fs.properties.component_list, Units=kg/s\n",
      "        Key            : Lower : Value               : Upper : Fixed : Stale : Domain\n",
      "        ('Liq', 'H2O') :   0.0 :  0.2702987496420657 :  None : False : False : NonNegativeReals\n",
      "        ('Liq', 'TDS') :   0.0 : 0.02367839447702132 :  None : False : False : NonNegativeReals\n",
      "    temperature : Temperature\n",
      "        Size=1, Index=None, Units=K\n",
      "        Key  : Lower  : Value : Upper : Fixed : Stale : Domain\n",
      "        None : 273.15 :   298 :  1000 :  True :  True : NonNegativeReals\n",
      "    pressure : Pressure\n",
      "        Size=1, Index=None, Units=Pa\n",
      "        Key  : Lower  : Value  : Upper      : Fixed : Stale : Domain\n",
      "        None : 1000.0 : 101325 : 50000000.0 :  True :  True : NonNegativeReals\n",
      "    mass_frac_phase_comp : Mass fraction\n",
      "        Size=2, Index=fs.properties.phase_list*fs.properties.component_list, Units=dimensionless\n",
      "        Key            : Lower : Value               : Upper : Fixed : Stale : Domain\n",
      "        ('Liq', 'H2O') :   0.0 :  0.9194549816177906 :  None : False : False :  Reals\n",
      "        ('Liq', 'TDS') :   0.0 : 0.08054501838220952 :  None : False : False :  Reals\n",
      "    pressure_osm_phase : Osmotic pressure\n",
      "        Size=1, Index=fs.properties.phase_list, Units=Pa\n",
      "        Key : Lower : Value     : Upper       : Fixed : Stale : Domain\n",
      "        Liq :     1 : 6500000.0 : 100000000.0 :  True :  True :  Reals\n",
      "    dens_mass_solvent : Mass density of pure water\n",
      "        Size=1, Index=None, Units=kg/m**3\n",
      "        Key  : Lower : Value             : Upper     : Fixed : Stale : Domain\n",
      "        None :     1 : 996.9294768944163 : 1000000.0 : False : False :  Reals\n",
      "    osm_coeff : Osmotic coefficient\n",
      "        Size=1, Index=None, Units=dimensionless\n",
      "        Key  : Lower : Value              : Upper : Fixed : Stale : Domain\n",
      "        None :   0.0 : 0.9433497957115153 :    10 : False : False :  Reals\n",
      "    molality_phase_comp : Molality\n",
      "        Size=1, Index=fs.properties.phase_list*{TDS}, Units=mol/kg\n",
      "        Key            : Lower : Value            : Upper     : Fixed : Stale : Domain\n",
      "        ('Liq', 'TDS') :   0.0 : 2.78949579135826 : 1000000.0 : False : False :  Reals\n",
      "    flow_vol_phase : Volumetric flow rate\n",
      "        Size=1, Index=fs.properties.phase_list, Units=m**3/s\n",
      "        Key : Lower : Value                 : Upper : Fixed : Stale : Domain\n",
      "        Liq :   0.0 : 0.0002777777777777778 :  None :  True :  True :  Reals\n",
      "    dens_mass_phase : Mass density of seawater\n",
      "        Size=1, Index=fs.properties.phase_list, Units=kg/m**3\n",
      "        Key : Lower : Value              : Upper     : Fixed : Stale : Domain\n",
      "        Liq :     1 : 1058.3177188287134 : 1000000.0 : False : False :  Reals\n",
      "\n",
      "  Objectives:\n",
      "    None\n",
      "\n",
      "  Constraints:\n",
      "    eq_mass_frac_phase_comp : Size=2\n",
      "        Key            : Lower : Body                   : Upper\n",
      "        ('Liq', 'H2O') :   0.0 : 1.1102230246251565e-16 :   0.0\n",
      "        ('Liq', 'TDS') :   0.0 :                    0.0 :   0.0\n",
      "    eq_pressure_osm_phase : Size=1\n",
      "        Key : Lower : Body                  : Upper\n",
      "        Liq :   0.0 : 9.313225746154785e-10 :   0.0\n",
      "    eq_dens_mass_solvent : Size=1\n",
      "        Key  : Lower : Body : Upper\n",
      "        None :   0.0 :  0.0 :   0.0\n",
      "    eq_osm_coeff : Size=1\n",
      "        Key  : Lower : Body                    : Upper\n",
      "        None :   0.0 : -1.1102230246251565e-16 :   0.0\n",
      "    eq_molality_phase_comp : Size=1\n",
      "        Key            : Lower : Body                   : Upper\n",
      "        ('Liq', 'TDS') :   0.0 : -4.440892098500626e-16 :   0.0\n",
      "    eq_flow_vol_phase : Size=1\n",
      "        Key : Lower : Body                  : Upper\n",
      "        Liq :   0.0 : 5.421010862427522e-20 :   0.0\n",
      "    eq_dens_mass_phase : Size=1\n",
      "        Key : Lower : Body                   : Upper\n",
      "        Liq :   0.0 : 2.2737367544323206e-13 :   0.0\n"
     ]
    }
   ],
   "source": [
    "# unfix the previously fixed mass fraction\n",
    "m.fs.state_block[0].mass_frac_phase_comp['Liq', 'TDS'].unfix()\n",
    "\n",
    "# fix the osmotic pressure\n",
    "m.fs.state_block[0].pressure_osm_phase[\"Liq\"].fix(65 * units.bar)\n",
    "\n",
    "# solve the state block\n",
    "solver.solve(m.fs.state_block[0])\n",
    "\n",
    "# display the state block\n",
    "m.fs.state_block[0].display()"
   ]
  },
  {
   "cell_type": "markdown",
   "metadata": {},
   "source": [
    "### Create a plot for osmotic pressure as a function of concentration"
   ]
  },
  {
   "cell_type": "code",
   "execution_count": 16,
   "metadata": {},
   "outputs": [],
   "source": [
    "# unfix osmotic pressure\n",
    "m.fs.state_block[0].pressure_osm_phase[\"Liq\"].unfix()\n",
    "\n",
    "# simulate osmotic pressure over a range of concentrations\n",
    "concentration_list = range(1, 250, 5)\n",
    "pressure_osm_list = []\n",
    "for c in concentration_list:\n",
    "    m.fs.state_block[0].conc_mass_phase_comp[\"Liq\", \"TDS\"].fix(c)  # fix concentration\n",
    "    solver.solve(m.fs.state_block[0])  # solve\n",
    "    pressure_osm_list.append(value(units.convert(m.fs.state_block[0].pressure_osm_phase[\"Liq\"], to_units=units.bar))) # save osmotic pressure"
   ]
  },
  {
   "cell_type": "code",
   "execution_count": 17,
   "metadata": {},
   "outputs": [
    {
     "data": {
      "text/plain": [
       "(0.0, 250.0)"
      ]
     },
     "execution_count": 17,
     "metadata": {},
     "output_type": "execute_result"
    },
    {
     "data": {
      "image/png": "[encoded data removed]",
      "text/plain": [
       "<Figure size 1000x800 with 1 Axes>"
      ]
     },
     "metadata": {},
     "output_type": "display_data"
    }
   ],
   "source": [
    "import matplotlib.pyplot as plt\n",
    "# create figure\n",
    "plt.figure(figsize=(10, 8))\n",
    "\n",
    "# plot data\n",
    "plt.plot(concentration_list, pressure_osm_list, \"ko-\", lw=2.0)\n",
    "\n",
    "# format figure\n",
    "plt.rc(\"font\", size=18)\n",
    "plt.xlabel(\"Concentration (g/L)\")\n",
    "plt.ylabel(\"Osmotic Pressure (bar)\")\n",
    "plt.xlim(0, 250)\n",
    "plt.ylim(0, 250)"
   ]
  },
  {
   "cell_type": "markdown",
   "metadata": {},
   "source": [
    "### Recap property model demonstration\n",
    "* Property models create state blocks that relate state variables to the properties\n",
    "* Properties are built on demand to reduce the model size\n",
    "* Equation oriented modeling enables calculations in any direction\n",
    "* Pyomo, IDAES, and WaterTAP support tracking and converting units of measurements"
   ]
  },
  {
   "cell_type": "markdown",
   "metadata": {},
   "source": [
    "## Reverse Osmosis Demonstration\n",
    "This section shows how to build, scale, initialize, and simulate reverse osmosis (RO) unit model using WaterTAP."
   ]
  },
  {
   "cell_type": "markdown",
   "metadata": {},
   "source": [
    "### Import and build RO model"
   ]
  },
  {
   "cell_type": "code",
   "execution_count": 18,
   "metadata": {},
   "outputs": [],
   "source": [
    "from watertap.unit_models.reverse_osmosis_0D import (ReverseOsmosis0D, ConcentrationPolarizationType, \n",
    "                                                     MassTransferCoefficient, PressureChangeType)\n",
    "\n",
    "# create a Pyomo model\n",
    "m = ConcreteModel()\n",
    "\n",
    "# create IDAES flowsheet\n",
    "m.fs = FlowsheetBlock(dynamic=False)\n",
    "\n",
    "# create property model\n",
    "m.fs.properties = properties.SeawaterParameterBlock()\n",
    "\n",
    "# create RO unit model and specify options\n",
    "m.fs.RO = ReverseOsmosis0D(\n",
    "        property_package=m.fs.properties,\n",
    "        has_pressure_change=True,\n",
    "        pressure_change_type=PressureChangeType.calculated,\n",
    "        mass_transfer_coefficient=MassTransferCoefficient.calculated,\n",
    "        concentration_polarization_type=ConcentrationPolarizationType.calculated)"
   ]
  },
  {
   "cell_type": "markdown",
   "metadata": {},
   "source": [
    "### View model structure in documentation\n",
    "https://watertap.readthedocs.io/en/latest/technical_reference/unit_models/reverse_osmosis_0D.html"
   ]
  },
  {
   "cell_type": "markdown",
   "metadata": {},
   "source": [
    "### Check degrees of freedom\n",
    "There should be zero degrees of freedom for a simulation"
   ]
  },
  {
   "cell_type": "code",
   "execution_count": 19,
   "metadata": {},
   "outputs": [
    {
     "name": "stdout",
     "output_type": "stream",
     "text": [
      "DOF =  11\n"
     ]
    }
   ],
   "source": [
    "from idaes.core.util.model_statistics import degrees_of_freedom\n",
    "print(\"DOF = \", degrees_of_freedom(m))"
   ]
  },
  {
   "cell_type": "markdown",
   "metadata": {},
   "source": [
    "### Specify values for RO variables"
   ]
  },
  {
   "cell_type": "code",
   "execution_count": 20,
   "metadata": {},
   "outputs": [
    {
     "name": "stdout",
     "output_type": "stream",
     "text": [
      "DOF =  0\n"
     ]
    }
   ],
   "source": [
    "# fix the 4 inlet state variables\n",
    "m.fs.RO.inlet.flow_mass_phase_comp[0, 'Liq', 'TDS'].fix(0.035)   # feed mass flowrate of TDS (kg/s)\n",
    "m.fs.RO.inlet.flow_mass_phase_comp[0, 'Liq', 'H2O'].fix(0.965)   # feed mass flowrate of water (kg/s)\n",
    "m.fs.RO.inlet.pressure[0].fix(50 * units.bar)                    # feed pressure (Pa)\n",
    "m.fs.RO.inlet.temperature[0].fix(298)                            # feed temperature (K)\n",
    "\n",
    "# fix 2 membrane properties\n",
    "m.fs.RO.A_comp.fix(4.2e-12)                                      # membrane water permeability coeff (m/Pa/s)\n",
    "m.fs.RO.B_comp.fix(3.5e-8)                                       # membrane salt permeability coeff (m/s)\n",
    "\n",
    "# fix 5 module specficiations\n",
    "m.fs.RO.area.fix(50)                                             # membrane stage area (m^2)\n",
    "m.fs.RO.width.fix(5)                                             # membrane stage width (m)\n",
    "m.fs.RO.feed_side.channel_height.fix(1 * units.mm)               # channel height in membrane stage (m)\n",
    "m.fs.RO.feed_side.spacer_porosity.fix(0.97)                      # spacer porosity in membrane stage (-)\n",
    "m.fs.RO.permeate.pressure[0].fix(101325)                         # permeate pressure (Pa)\n",
    "\n",
    "print(\"DOF = \", degrees_of_freedom(m))"
   ]
  },
  {
   "cell_type": "markdown",
   "metadata": {},
   "source": [
    "### Scale, initialize, and solve model"
   ]
  },
  {
   "cell_type": "code",
   "execution_count": 21,
   "metadata": {},
   "outputs": [
    {
     "name": "stdout",
     "output_type": "stream",
     "text": [
      "2025-10-10 13:26:29 [INFO] idaes.init.fs.RO.feed_side.properties_out: fs.RO.feed_side.properties_out State Released.\n",
      "2025-10-10 13:26:29 [INFO] idaes.init.fs.RO.feed_side.properties_interface: fs.RO.feed_side.properties_interface State Released.\n",
      "2025-10-10 13:26:29 [INFO] idaes.init.fs.RO.feed_side: Initialization Complete\n",
      "2025-10-10 13:26:29 [INFO] idaes.init.fs.RO.permeate_side: fs.RO.permeate_side State Released.\n",
      "2025-10-10 13:26:29 [INFO] idaes.init.fs.RO.mixed_permeate: fs.RO.mixed_permeate State Released.\n",
      "2025-10-10 13:26:30 [INFO] idaes.init.fs.RO.feed_side.properties_in: fs.RO.feed_side.properties_in State Released.\n",
      "2025-10-10 13:26:30 [INFO] idaes.init.fs.RO: Initialization Complete: optimal - Optimal Solution Found\n",
      "\n",
      "Problem: \n",
      "- Lower bound: -.inf\n",
      "  Upper bound: .inf\n",
      "  Number of objectives: 1\n",
      "  Number of constraints: 124\n",
      "  Number of variables: 124\n",
      "  Sense: unknown\n",
      "Solver: \n",
      "- Status: ok\n",
      "  Message: Ipopt 3.13.2\\x3a Optimal Solution Found\n",
      "  Termination condition: optimal\n",
      "  Id: 0\n",
      "  Error rc: 0\n",
      "  Time: 0.018874168395996094\n",
      "Solution: \n",
      "- number of solutions: 0\n",
      "  number of solutions displayed: 0\n",
      "\n"
     ]
    }
   ],
   "source": [
    "# scale the model\n",
    "m.fs.properties.set_default_scaling('flow_mass_phase_comp', 1, index=('Liq', 'H2O'))\n",
    "m.fs.properties.set_default_scaling('flow_mass_phase_comp', 1e2, index=('Liq', 'TDS'))\n",
    "set_scaling_factor(m.fs.RO.area, 1e-2)\n",
    "calculate_scaling_factors(m)\n",
    "\n",
    "# initailize the model\n",
    "m.fs.RO.initialize()\n",
    "\n",
    "# solve the model\n",
    "results = solver.solve(m)\n",
    "print(results)"
   ]
  },
  {
   "cell_type": "markdown",
   "metadata": {},
   "source": [
    "### Display report"
   ]
  },
  {
   "cell_type": "code",
   "execution_count": 22,
   "metadata": {},
   "outputs": [
    {
     "name": "stdout",
     "output_type": "stream",
     "text": [
      "\n",
      "====================================================================================\n",
      "Unit : fs.RO                                                               Time: 0.0\n",
      "------------------------------------------------------------------------------------\n",
      "    Unit Performance\n",
      "\n",
      "    Variables: \n",
      "\n",
      "    Key                        : Value   : Units         : Fixed : Bounds\n",
      "                 Membrane Area :  50.000 :    meter ** 2 :  True : (0.1, 100000.0)\n",
      "    Solvent Mass Recovery Rate : 0.27361 : dimensionless : False : (0.01, 0.999999)\n",
      "      Volumetric Recovery Rate : 0.27112 : dimensionless : False : (None, None)\n",
      "\n",
      "------------------------------------------------------------------------------------\n",
      "    Stream Table\n",
      "                                              Units         Feed Inlet  Feed Outlet  Permeate Outlet\n",
      "    flow_mass_phase_comp ('Liq', 'H2O')  kilogram / second     0.96500     0.70097        0.26403   \n",
      "    flow_mass_phase_comp ('Liq', 'TDS')  kilogram / second    0.035000    0.034914     8.6051e-05   \n",
      "    temperature                                     kelvin      298.00      298.00         298.00   \n",
      "    pressure                                        pascal  5.0000e+06  4.9078e+06     1.0132e+05   \n",
      "====================================================================================\n"
     ]
    }
   ],
   "source": [
    "m.fs.RO.report()"
   ]
  },
  {
   "cell_type": "markdown",
   "metadata": {},
   "source": [
    "### Solve RO with fixed recovery\n",
    "Fix volumetric water recovery and determine the area"
   ]
  },
  {
   "cell_type": "code",
   "execution_count": 23,
   "metadata": {},
   "outputs": [
    {
     "name": "stdout",
     "output_type": "stream",
     "text": [
      "\n",
      "====================================================================================\n",
      "Unit : fs.RO                                                               Time: 0.0\n",
      "------------------------------------------------------------------------------------\n",
      "    Unit Performance\n",
      "\n",
      "    Variables: \n",
      "\n",
      "    Key                        : Value   : Units         : Fixed : Bounds\n",
      "                 Membrane Area :  132.56 :    meter ** 2 : False : (0.1, 100000.0)\n",
      "    Solvent Mass Recovery Rate : 0.50457 : dimensionless : False : (0.01, 0.999999)\n",
      "      Volumetric Recovery Rate : 0.50000 : dimensionless :  True : (None, None)\n",
      "\n",
      "------------------------------------------------------------------------------------\n",
      "    Stream Table\n",
      "                                              Units         Feed Inlet  Feed Outlet  Permeate Outlet\n",
      "    flow_mass_phase_comp ('Liq', 'H2O')  kilogram / second     0.96500     0.47809        0.48691   \n",
      "    flow_mass_phase_comp ('Liq', 'TDS')  kilogram / second    0.035000    0.034755     0.00024479   \n",
      "    temperature                                     kelvin      298.00      298.00         298.00   \n",
      "    pressure                                        pascal  5.0000e+06  4.7913e+06     1.0132e+05   \n",
      "====================================================================================\n"
     ]
    }
   ],
   "source": [
    "# fix recovery and unfix area\n",
    "m.fs.RO.recovery_vol_phase[0, \"Liq\"].fix(0.5)\n",
    "m.fs.RO.area.unfix()\n",
    "\n",
    "# solve model\n",
    "solver = get_solver()\n",
    "results = solver.solve(m)\n",
    "\n",
    "# display report\n",
    "m.fs.RO.report()"
   ]
  },
  {
   "cell_type": "markdown",
   "metadata": {},
   "source": [
    "## Full flowsheet optimization example\n",
    "<img src=\"assets_parameter_sweep_demo/RO_ERD_flowsheet.png\" width=\"500\" height=\"340\">"
   ]
  },
  {
   "cell_type": "markdown",
   "metadata": {},
   "source": [
    "### Import and build model"
   ]
  },
  {
   "cell_type": "code",
   "execution_count": 24,
   "metadata": {},
   "outputs": [],
   "source": [
    "from pyomo.environ import TransformationFactory\n",
    "from pyomo.network import Arc\n",
    "from idaes.core.util.initialization import propagate_state\n",
    "from idaes.models.unit_models import Product, Feed\n",
    "from idaes.core import UnitModelCostingBlock\n",
    "from watertap.unit_models.pressure_changer import Pump, EnergyRecoveryDevice\n",
    "from watertap.costing import WaterTAPCosting\n",
    "\n",
    "# setup model\n",
    "m = ConcreteModel()\n",
    "m.fs = FlowsheetBlock(dynamic=False)\n",
    "m.fs.properties = properties.SeawaterParameterBlock()\n",
    "m.fs.costing = WaterTAPCosting()  # costing model\n",
    "\n",
    "# create unit models\n",
    "m.fs.feed = Feed(property_package=m.fs.properties)\n",
    "m.fs.pump = Pump(property_package=m.fs.properties)\n",
    "m.fs.RO = ReverseOsmosis0D(\n",
    "        property_package=m.fs.properties,\n",
    "        has_pressure_change=True,\n",
    "        pressure_change_type=PressureChangeType.calculated,\n",
    "        mass_transfer_coefficient=MassTransferCoefficient.calculated,\n",
    "        concentration_polarization_type=ConcentrationPolarizationType.calculated)\n",
    "m.fs.erd = EnergyRecoveryDevice(property_package=m.fs.properties)\n",
    "m.fs.product = Product(property_package=m.fs.properties)\n",
    "m.fs.disposal = Product(property_package=m.fs.properties)"
   ]
  },
  {
   "cell_type": "markdown",
   "metadata": {},
   "source": [
    "### Connect unit models"
   ]
  },
  {
   "cell_type": "code",
   "execution_count": 25,
   "metadata": {},
   "outputs": [],
   "source": [
    "# connect unit models\n",
    "m.fs.s1 = Arc(source=m.fs.feed.outlet, destination=m.fs.pump.inlet)\n",
    "m.fs.s2 = Arc(source=m.fs.pump.outlet, destination=m.fs.RO.inlet)\n",
    "m.fs.s3 = Arc(source=m.fs.RO.permeate, destination=m.fs.product.inlet)\n",
    "m.fs.s4 = Arc(source=m.fs.RO.retentate, destination=m.fs.erd.inlet)\n",
    "m.fs.s5 = Arc(source=m.fs.erd.outlet, destination=m.fs.disposal.inlet)\n",
    "TransformationFactory(\"network.expand_arcs\").apply_to(m)"
   ]
  },
  {
   "cell_type": "markdown",
   "metadata": {},
   "source": [
    "### Add costing"
   ]
  },
  {
   "cell_type": "code",
   "execution_count": 26,
   "metadata": {
    "tags": [
     "hide-output"
    ]
   },
   "outputs": [
    {
     "name": "stdout",
     "output_type": "stream",
     "text": [
      "2025-10-10 13:26:30 [WARNING] idaes.core.base.costing_base: flow_expr is an expression with a lower bound of less than zero. Costing requires that all flows have a lower bound equal to or greater than zero to avoid negative costs.\n"
     ]
    }
   ],
   "source": [
    "# unit equipment capital and operating costs\n",
    "m.fs.pump.work_mechanical[0].setlb(0)\n",
    "m.fs.pump.costing = UnitModelCostingBlock(flowsheet_costing_block=m.fs.costing)\n",
    "m.fs.RO.costing = UnitModelCostingBlock(flowsheet_costing_block=m.fs.costing)\n",
    "m.fs.erd.costing = UnitModelCostingBlock(\n",
    "        flowsheet_costing_block=m.fs.costing,\n",
    "        costing_method_arguments={\"energy_recovery_device_type\": \"pressure_exchanger\"})\n",
    "\n",
    "# system costing - total investment and operating costs\n",
    "m.fs.costing.cost_process()\n",
    "m.fs.costing.add_annual_water_production(m.fs.product.properties[0].flow_vol)\n",
    "m.fs.costing.add_specific_energy_consumption(m.fs.product.properties[0].flow_vol)\n",
    "m.fs.costing.add_LCOW(m.fs.product.properties[0].flow_vol)"
   ]
  },
  {
   "cell_type": "markdown",
   "metadata": {},
   "source": [
    "### Scale model"
   ]
  },
  {
   "cell_type": "code",
   "execution_count": 27,
   "metadata": {},
   "outputs": [],
   "source": [
    "# scaling\n",
    "# set default property values\n",
    "m.fs.properties.set_default_scaling(\"flow_mass_phase_comp\", 1, index=(\"Liq\", \"H2O\"))\n",
    "m.fs.properties.set_default_scaling(\"flow_mass_phase_comp\", 1e2, index=(\"Liq\", \"TDS\"))\n",
    "\n",
    "# set unit model values\n",
    "set_scaling_factor(m.fs.pump.control_volume.work, 1e-3)\n",
    "set_scaling_factor(m.fs.erd.control_volume.work, 1e-3)\n",
    "set_scaling_factor(m.fs.RO.area, 1e-2)\n",
    "\n",
    "# touch properties used in specifying the model\n",
    "m.fs.feed.properties[0].flow_vol_phase[\"Liq\"]\n",
    "m.fs.feed.properties[0].mass_frac_phase_comp[\"Liq\", \"TDS\"]\n",
    "m.fs.disposal.properties[0].flow_vol_phase[\"Liq\"]\n",
    "m.fs.disposal.properties[0].mass_frac_phase_comp[\"Liq\", \"TDS\"]\n",
    "\n",
    "# calculate and propagate scaling factors\n",
    "calculate_scaling_factors(m)"
   ]
  },
  {
   "cell_type": "markdown",
   "metadata": {},
   "source": [
    "### Check degrees of freedom"
   ]
  },
  {
   "cell_type": "code",
   "execution_count": 28,
   "metadata": {},
   "outputs": [
    {
     "name": "stdout",
     "output_type": "stream",
     "text": [
      "DOF =  15\n"
     ]
    }
   ],
   "source": [
    "print(\"DOF = \", degrees_of_freedom(m))"
   ]
  },
  {
   "cell_type": "markdown",
   "metadata": {},
   "source": [
    "### Specify the flowsheet"
   ]
  },
  {
   "cell_type": "code",
   "execution_count": 29,
   "metadata": {},
   "outputs": [
    {
     "name": "stdout",
     "output_type": "stream",
     "text": [
      "DOF =  0\n"
     ]
    }
   ],
   "source": [
    "# feed, 4 degrees of freedom\n",
    "m.fs.feed.properties[0].flow_vol_phase[\"Liq\"].fix(1e-3)                # volumetric flow rate (m3/s)\n",
    "m.fs.feed.properties[0].mass_frac_phase_comp[\"Liq\", \"TDS\"].fix(0.035)  # TDS mass fraction (-)\n",
    "m.fs.feed.properties[0].pressure.fix(101325)                           # pressure (Pa)\n",
    "m.fs.feed.properties[0].temperature.fix(273.15 + 25)                   # temperature (K)\n",
    "\n",
    "# high pressure pump, 2 degrees of freedom\n",
    "m.fs.pump.efficiency_pump.fix(0.80)                                    # pump efficiency (-)\n",
    "m.fs.pump.control_volume.properties_out[0].pressure.fix(75e5)          # pump outlet pressure (Pa)\n",
    "\n",
    "# RO unit, 7 degrees of freedom\n",
    "m.fs.RO.A_comp.fix(4.2e-12)                                            # membrane water permeability coeff (m/Pa/s)\n",
    "m.fs.RO.B_comp.fix(3.5e-8)                                             # membrane salt permeability coeff (m/s)\n",
    "m.fs.RO.recovery_vol_phase[0, \"Liq\"].fix(0.5)                          # volumetric recovery (-) *\n",
    "m.fs.RO.feed_side.velocity[0, 0].fix(0.15)                             # crossflow velocity (m/s) *\n",
    "m.fs.RO.feed_side.channel_height.fix(1e-3)                             # channel height in membrane stage (m)\n",
    "m.fs.RO.feed_side.spacer_porosity.fix(0.97)                            # spacer porosity in membrane stage (-)\n",
    "m.fs.RO.permeate.pressure[0].fix(101325)                               # permeate pressure (Pa)\n",
    "\n",
    "# energy recovery device, 2 degrees of freedom\n",
    "m.fs.erd.efficiency_pump.fix(0.80)                                     # erd efficiency (-)\n",
    "m.fs.erd.control_volume.properties_out[0].pressure.fix(101325)         # ERD outlet pressure (Pa)\n",
    "\n",
    "print(\"DOF = \", degrees_of_freedom(m))"
   ]
  },
  {
   "cell_type": "markdown",
   "metadata": {},
   "source": [
    "### Initialize and solve the flowsheet"
   ]
  },
  {
   "cell_type": "code",
   "execution_count": 30,
   "metadata": {},
   "outputs": [
    {
     "name": "stdout",
     "output_type": "stream",
     "text": [
      "2025-10-10 13:26:30 [INFO] idaes.init.fs.pump.control_volume.properties_out: fs.pump.control_volume.properties_out State Released.\n",
      "2025-10-10 13:26:30 [INFO] idaes.init.fs.pump.control_volume: Initialization Complete\n",
      "WARNING: model contains export suffix 'scaling_factor' that contains 6\n",
      "component keys that are not exported as part of the NL file.  Skipping.\n",
      "WARNING: model contains export suffix 'scaling_factor' that contains 3 keys\n",
      "that are not Var, Constraint, Objective, or the model.  Skipping.\n",
      "2025-10-10 13:26:30 [INFO] idaes.init.fs.pump.control_volume.properties_in: fs.pump.control_volume.properties_in State Released.\n",
      "2025-10-10 13:26:30 [INFO] idaes.init.fs.pump: Initialization Complete: optimal - Optimal Solution Found\n",
      "2025-10-10 13:26:30 [INFO] idaes.init.fs.RO.feed_side.properties_out: fs.RO.feed_side.properties_out State Released.\n",
      "2025-10-10 13:26:30 [INFO] idaes.init.fs.RO.feed_side.properties_interface: fs.RO.feed_side.properties_interface State Released.\n",
      "2025-10-10 13:26:30 [INFO] idaes.init.fs.RO.feed_side: Initialization Complete\n",
      "2025-10-10 13:26:30 [INFO] idaes.init.fs.RO.permeate_side: fs.RO.permeate_side State Released.\n",
      "2025-10-10 13:26:30 [INFO] idaes.init.fs.RO.mixed_permeate: fs.RO.mixed_permeate State Released.\n",
      "2025-10-10 13:26:30 [INFO] idaes.init.fs.RO.feed_side.properties_in: fs.RO.feed_side.properties_in State Released.\n",
      "2025-10-10 13:26:30 [INFO] idaes.init.fs.RO: Initialization Complete: optimal - Optimal Solution Found\n",
      "2025-10-10 13:26:30 [INFO] idaes.init.fs.erd.control_volume.properties_out: fs.erd.control_volume.properties_out State Released.\n",
      "2025-10-10 13:26:30 [INFO] idaes.init.fs.erd.control_volume: Initialization Complete\n",
      "WARNING: model contains export suffix 'scaling_factor' that contains 6\n",
      "component keys that are not exported as part of the NL file.  Skipping.\n",
      "WARNING: model contains export suffix 'scaling_factor' that contains 4 keys\n",
      "that are not Var, Constraint, Objective, or the model.  Skipping.\n",
      "2025-10-10 13:26:30 [INFO] idaes.init.fs.erd.control_volume.properties_in: fs.erd.control_volume.properties_in State Released.\n",
      "2025-10-10 13:26:30 [INFO] idaes.init.fs.erd: Initialization Complete: optimal - Optimal Solution Found\n",
      "\n",
      "Problem: \n",
      "- Lower bound: -.inf\n",
      "  Upper bound: .inf\n",
      "  Number of objectives: 1\n",
      "  Number of constraints: 206\n",
      "  Number of variables: 206\n",
      "  Sense: unknown\n",
      "Solver: \n",
      "- Status: ok\n",
      "  Message: Ipopt 3.13.2\\x3a Optimal Solution Found\n",
      "  Termination condition: optimal\n",
      "  Id: 0\n",
      "  Error rc: 0\n",
      "  Time: 0.018846988677978516\n",
      "Solution: \n",
      "- number of solutions: 0\n",
      "  number of solutions displayed: 0\n",
      "\n"
     ]
    }
   ],
   "source": [
    "# initialize unit by unit\n",
    "solver = get_solver()\n",
    "\n",
    "# solve feed\n",
    "solver.solve(m.fs.feed)\n",
    "\n",
    "# initialize pump\n",
    "propagate_state(m.fs.s1)\n",
    "m.fs.pump.initialize()\n",
    "\n",
    "# initialize RO\n",
    "propagate_state(m.fs.s2)\n",
    "m.fs.RO.initialize()\n",
    "\n",
    "# initialize energy recovery device\n",
    "propagate_state(m.fs.s4)\n",
    "m.fs.erd.initialize()\n",
    "\n",
    "# propagate to product and disposal\n",
    "propagate_state(m.fs.s3)\n",
    "propagate_state(m.fs.s5)\n",
    "\n",
    "# initialize cost\n",
    "m.fs.costing.initialize()\n",
    "\n",
    "# solve model\n",
    "results = solver.solve(m) \n",
    "print(results)"
   ]
  },
  {
   "cell_type": "markdown",
   "metadata": {},
   "source": [
    "### Display results"
   ]
  },
  {
   "cell_type": "code",
   "execution_count": 31,
   "metadata": {},
   "outputs": [
    {
     "name": "stdout",
     "output_type": "stream",
     "text": [
      "----------system metrics----------\n",
      "Recovery: 50.0 %\n",
      "Specific energy: 3.50 kWh/m3\n",
      "Levelized cost of water: 0.64 $/m3\n",
      "\n",
      "----------inlet and outlets----------\n",
      "Feed: 3.60 m3/h, 35000 ppm\n",
      "Product: 1.80 m3/h, 275 ppm\n",
      "Disposal: 1.80 m3/h, 67975 ppm\n",
      "\n",
      "----------decision variables----------\n",
      "Operating pressure: 75.0 bar\n",
      "Membrane area: 56.1 m2\n",
      "Inlet crossflow velocity: 15.0 cm/s\n",
      "\n",
      "----------system variables----------\n",
      "Pump power: 9.2 kW\n",
      "ERD power: 2.9 kW\n",
      "Average water flux: 32.0 L/(m2-h)\n",
      "Pressure drop: 0.4 bar\n",
      "Maximum interfacial salinity: 79886 ppm\n"
     ]
    }
   ],
   "source": [
    "def display_solution(m):\n",
    "    print(\"----------system metrics----------\")\n",
    "    print(\"Recovery: %.1f %%\" % (value(m.fs.RO.recovery_vol_phase[0, \"Liq\"])*100))\n",
    "    print(\"Specific energy: %.2f kWh/m3\" % value(m.fs.costing.specific_energy_consumption))\n",
    "    print(\"Levelized cost of water: %.2f $/m3\" % value(m.fs.costing.LCOW))\n",
    "\n",
    "    print(\"\\n----------inlet and outlets----------\")\n",
    "    print(\"Feed: %.2f m3/h, %.0f ppm\" %\n",
    "          (value(units.convert(m.fs.feed.properties[0].flow_vol_phase[\"Liq\"],\n",
    "                               to_units=units.m ** 3 / units.hr)),\n",
    "           value(m.fs.feed.properties[0].mass_frac_phase_comp[\"Liq\", \"TDS\"]) * 1e6))\n",
    "    print(\"Product: %.2f m3/h, %.0f ppm\" %\n",
    "          (value(units.convert(m.fs.product.properties[0].flow_vol_phase[\"Liq\"],\n",
    "                               to_units=units.m ** 3 / units.hr)),\n",
    "           value(m.fs.product.properties[0].mass_frac_phase_comp[\"Liq\", \"TDS\"]) * 1e6))\n",
    "    print(\"Disposal: %.2f m3/h, %.0f ppm\" %\n",
    "          (value(units.convert(m.fs.disposal.properties[0].flow_vol_phase[\"Liq\"],\n",
    "                               to_units=units.m ** 3 / units.hr)),\n",
    "           value(m.fs.disposal.properties[0].mass_frac_phase_comp[\"Liq\", \"TDS\"]) * 1e6))\n",
    "\n",
    "    print(\"\\n----------decision variables----------\")\n",
    "    print(\"Operating pressure: %.1f bar\" %\n",
    "          (value(units.convert(m.fs.pump.control_volume.properties_out[0].pressure,\n",
    "                               to_units=units.bar))))\n",
    "    print(\"Membrane area: %.1f m2\" % value(m.fs.RO.area))\n",
    "    print(\"Inlet crossflow velocity: %.1f cm/s\" %\n",
    "          (value(units.convert(m.fs.RO.feed_side.velocity[0, 0],\n",
    "                               to_units=units.cm / units.s))))\n",
    "\n",
    "    print(\"\\n----------system variables----------\")\n",
    "    print(\"Pump power: %.1f kW\" %\n",
    "          (value(units.convert(m.fs.pump.work_mechanical[0], to_units=units.kW))))\n",
    "    print(\"ERD power: %.1f kW\" %\n",
    "          (-value(units.convert(m.fs.erd.work_mechanical[0], to_units=units.kW))))\n",
    "    print(\"Average water flux: %.1f L/(m2-h)\" %\n",
    "          value(units.convert(m.fs.RO.flux_mass_phase_comp_avg[0, \"Liq\", \"H2O\"]\n",
    "                              / (1000 * units.kg / units.m ** 3),\n",
    "                              to_units=units.mm / units.hr)))\n",
    "    print(\"Pressure drop: %.1f bar\" %\n",
    "          (-value(units.convert(m.fs.RO.deltaP[0],to_units=units.bar))))\n",
    "    print(\"Maximum interfacial salinity: %.0f ppm\" %\n",
    "          (value(m.fs.RO.feed_side.properties_interface[0, 1].mass_frac_phase_comp[\"Liq\", \"TDS\"])*1e6))\n",
    "\n",
    "display_solution(m)"
   ]
  },
  {
   "cell_type": "markdown",
   "metadata": {},
   "source": [
    "## Setup cost optimization"
   ]
  },
  {
   "cell_type": "code",
   "execution_count": 32,
   "metadata": {},
   "outputs": [
    {
     "name": "stdout",
     "output_type": "stream",
     "text": [
      "DOF =  2\n"
     ]
    }
   ],
   "source": [
    "# objective\n",
    "m.fs.objective = Objective(expr=m.fs.costing.LCOW)  # minimize the LCOW\n",
    "\n",
    "# unfix decision variables and add bounds\n",
    "# pump pressure\n",
    "m.fs.pump.control_volume.properties_out[0].pressure.unfix()\n",
    "m.fs.pump.control_volume.properties_out[0].pressure.setlb(10e5)\n",
    "m.fs.pump.control_volume.properties_out[0].pressure.setub(85e5)\n",
    "m.fs.pump.deltaP.setlb(0)\n",
    "\n",
    "# RO crossflow velocity\n",
    "m.fs.RO.feed_side.velocity[0, 0].unfix()\n",
    "m.fs.RO.feed_side.velocity.setlb(0.01)\n",
    "m.fs.RO.feed_side.velocity.setub(1)\n",
    "m.fs.RO.area.setlb(1)\n",
    "m.fs.RO.area.setub(200)\n",
    "\n",
    "# check degrees of freedom\n",
    "# operating pressure + membrane area + crossflow velocity (i.e. width) - specified water recovery\n",
    "print(\"DOF = \", degrees_of_freedom(m))"
   ]
  },
  {
   "cell_type": "markdown",
   "metadata": {},
   "source": [
    "## Solve the optimization problem and display results"
   ]
  },
  {
   "cell_type": "code",
   "execution_count": 33,
   "metadata": {},
   "outputs": [
    {
     "name": "stdout",
     "output_type": "stream",
     "text": [
      "\n",
      "Problem: \n",
      "- Lower bound: -.inf\n",
      "  Upper bound: .inf\n",
      "  Number of objectives: 1\n",
      "  Number of constraints: 206\n",
      "  Number of variables: 208\n",
      "  Sense: unknown\n",
      "Solver: \n",
      "- Status: ok\n",
      "  Message: Ipopt 3.13.2\\x3a Optimal Solution Found\n",
      "  Termination condition: optimal\n",
      "  Id: 0\n",
      "  Error rc: 0\n",
      "  Time: 0.02903604507446289\n",
      "Solution: \n",
      "- number of solutions: 0\n",
      "  number of solutions displayed: 0\n",
      "\n"
     ]
    }
   ],
   "source": [
    "results = solver.solve(m)\n",
    "print(results)"
   ]
  },
  {
   "cell_type": "code",
   "execution_count": 34,
   "metadata": {},
   "outputs": [
    {
     "name": "stdout",
     "output_type": "stream",
     "text": [
      "----------system metrics----------\n",
      "Recovery: 50.0 %\n",
      "Specific energy: 2.24 kWh/m3\n",
      "Levelized cost of water: 0.53 $/m3\n",
      "\n",
      "----------inlet and outlets----------\n",
      "Feed: 3.60 m3/h, 35000 ppm\n",
      "Product: 1.80 m3/h, 535 ppm\n",
      "Disposal: 1.80 m3/h, 67741 ppm\n",
      "\n",
      "----------decision variables----------\n",
      "Operating pressure: 47.0 bar\n",
      "Membrane area: 154.8 m2\n",
      "Inlet crossflow velocity: 23.0 cm/s\n",
      "\n",
      "----------system variables----------\n",
      "Pump power: 5.7 kW\n",
      "ERD power: 1.7 kW\n",
      "Average water flux: 11.6 L/(m2-h)\n",
      "Pressure drop: 3.3 bar\n",
      "Maximum interfacial salinity: 67973 ppm\n"
     ]
    }
   ],
   "source": [
    "display_solution(m)"
   ]
  },
  {
   "cell_type": "markdown",
   "metadata": {},
   "source": [
    "### Change the membrane capital cost and reoptimize"
   ]
  },
  {
   "cell_type": "code",
   "execution_count": 35,
   "metadata": {},
   "outputs": [
    {
     "name": "stdout",
     "output_type": "stream",
     "text": [
      "----------system metrics----------\n",
      "Recovery: 50.0 %\n",
      "Specific energy: 2.78 kWh/m3\n",
      "Levelized cost of water: 0.64 $/m3\n",
      "\n",
      "----------inlet and outlets----------\n",
      "Feed: 3.60 m3/h, 35000 ppm\n",
      "Product: 1.80 m3/h, 379 ppm\n",
      "Disposal: 1.80 m3/h, 67882 ppm\n",
      "\n",
      "----------decision variables----------\n",
      "Operating pressure: 59.1 bar\n",
      "Membrane area: 90.9 m2\n",
      "Inlet crossflow velocity: 22.9 cm/s\n",
      "\n",
      "----------system variables----------\n",
      "Pump power: 7.3 kW\n",
      "ERD power: 2.3 kW\n",
      "Average water flux: 19.7 L/(m2-h)\n",
      "Pressure drop: 1.9 bar\n",
      "Maximum interfacial salinity: 70277 ppm\n"
     ]
    }
   ],
   "source": [
    "# double the membrane costs\n",
    "m.fs.costing.reverse_osmosis.membrane_cost.fix(60)\n",
    "\n",
    "# resolve\n",
    "results = solver.solve(m)\n",
    "display_solution(m)"
   ]
  },
  {
   "cell_type": "markdown",
   "metadata": {},
   "source": [
    "### Summary points on cost-optimization of flowsheet models in WaterTAP\n",
    "* Water treatment trains can be rapidly assembled\n",
    "* WaterTAP can optimize multiple decision variables in seconds\n",
    "* All parameters and variables can be modified for sensitivity analyses"
   ]
  }
 ],
 "metadata": {
  "kernelspec": {
   "display_name": "watertap-academy",
   "language": "python",
   "name": "watertap-academy"
  },
  "language_info": {
   "codemirror_mode": {
    "name": "ipython",
    "version": 3
   },
   "file_extension": ".py",
   "mimetype": "text/x-python",
   "name": "python",
   "nbconvert_exporter": "python",
   "pygments_lexer": "ipython3",
   "version": "3.11.5"
  }
 },
 "nbformat": 4,
 "nbformat_minor": 4
}
